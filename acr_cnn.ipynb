{
  "nbformat": 4,
  "nbformat_minor": 0,
  "metadata": {
    "colab": {
      "name": "analogcounter_cnn.ipynb",
      "provenance": [],
      "collapsed_sections": [],
      "toc_visible": true,
      "include_colab_link": true
    },
    "kernelspec": {
      "name": "python3",
      "display_name": "Python 3"
    },
    "accelerator": "GPU"
  },
  "cells": [
    {
      "cell_type": "markdown",
      "metadata": {
        "id": "view-in-github",
        "colab_type": "text"
      },
      "source": [
        "<a href=\"https://colab.research.google.com/github/rochefort8/AnalogCounter-NN/blob/master/acr_cnn.ipynb\" target=\"_parent\"><img src=\"https://colab.research.google.com/assets/colab-badge.svg\" alt=\"Open In Colab\"/></a>"
      ]
    },
    {
      "cell_type": "markdown",
      "metadata": {
        "id": "JneQLRfWJ1G3",
        "colab_type": "text"
      },
      "source": [
        "## 新しいセクション"
      ]
    },
    {
      "cell_type": "code",
      "metadata": {
        "id": "fECZK-7me4_o",
        "colab_type": "code",
        "colab": {}
      },
      "source": [
        ""
      ],
      "execution_count": 0,
      "outputs": []
    },
    {
      "cell_type": "code",
      "metadata": {
        "id": "pk8Yweix8KZ4",
        "colab_type": "code",
        "colab": {}
      },
      "source": [
        "from google.colab import drive\n",
        "drive.mount('/content/drive', force_remount=True)\n",
        "\n",
        "!rm -rf /var/test\n",
        "!rm -rf /var/input\n",
        "\n",
        "!tar zxpf  \"/content/drive/My Drive/AC/input.tar.gz\" -C /var \n",
        "!tar zxpf  \"/content/drive/My Drive/AC/test.tar.gz\" -C /var \n",
        "#!tar zxpf /var/input.tar.gz -C /var\n",
        "#!tar zxpf /var/test.tar.gz -C /var"
      ],
      "execution_count": 0,
      "outputs": []
    },
    {
      "cell_type": "code",
      "metadata": {
        "id": "U9qs4lPyFpnv",
        "colab_type": "code",
        "colab": {}
      },
      "source": [
        "#!rm /var/input.tar.gz"
      ],
      "execution_count": 0,
      "outputs": []
    },
    {
      "cell_type": "code",
      "metadata": {
        "id": "gIwHNLGIJ-ql",
        "colab_type": "code",
        "colab": {}
      },
      "source": [
        "'''Trains a simple convnet on the MNIST dataset.\n",
        "Gets to 99.25% test accuracy after 12 epochs\n",
        "(there is still a lot of margin for parameter tuning).\n",
        "16 seconds per epoch on a GRID K520 GPU.\n",
        "'''\n",
        "\n",
        "from __future__ import print_function\n",
        "import keras\n",
        "from keras.datasets import mnist\n",
        "from keras.models import Sequential\n",
        "from keras.layers import Dense, Dropout, Flatten\n",
        "from keras.layers import Conv2D, MaxPooling2D\n",
        "from keras import backend as K\n",
        "\n",
        "from PIL import Image\n",
        "from io import BytesIO \n",
        "\n",
        "import cv2 as cv\n",
        "\n",
        "import matplotlib.pyplot as plt\n",
        "import numpy as np\n",
        "import os\n",
        "\n",
        "from keras.preprocessing.image import array_to_img, img_to_array, load_img\n",
        "from sklearn.model_selection import train_test_split\n",
        "\n",
        "batch_size = 128\n",
        "num_classes = 20\n",
        "epochs = 12\n",
        "\n",
        "# input image dimensions\n",
        "img_rows, img_cols = 28, 28"
      ],
      "execution_count": 0,
      "outputs": []
    },
    {
      "cell_type": "code",
      "metadata": {
        "id": "0cuupkHfYOwM",
        "colab_type": "code",
        "colab": {}
      },
      "source": [
        "\n",
        "# the data, split between train and test sets\n",
        "#(x_train, y_train), (x_test, y_test) = mnist.load_data()\n",
        "# print(type(y_train))"
      ],
      "execution_count": 0,
      "outputs": []
    },
    {
      "cell_type": "code",
      "metadata": {
        "id": "-LdKxeQ9ypW3",
        "colab_type": "code",
        "colab": {}
      },
      "source": [
        "X=[]\n",
        "Y=[]\n",
        "\n",
        "for number in range (10):  \n",
        "  path = \"/var/input/\" + str(number) + \"/\"\n",
        "  files = os.listdir(path)\n",
        "  print(number)\n",
        "  for file in files:\n",
        "      img = np.asarray(cv.imread(path + file,0))\n",
        "\n",
        "#      threshold = 66\n",
        "#      ret,img = cv.threshold(img,threshold,255,cv.THRESH_TOZERO)\n",
        "#      threshold = 100\n",
        "#      ret,img = cv.threshold(img,threshold,255,cv.THRESH_BINARY)\n",
        "\n",
        "      X.append(img)\n",
        "      Y.append(number)\n",
        "\n",
        "np.random.seed(1)\n",
        "np.random.shuffle(X)\n",
        "np.random.seed(1)\n",
        "np.random.shuffle(Y)\n",
        "\n",
        "#x_train = np.array(X)\n",
        "#y_train = np.array(Y)\n",
        "_x_train, _x_test, _y_train, _y_test =train_test_split(X, Y, test_size=0.33, random_state=111)\n",
        "x_train = np.array(_x_train)\n",
        "x_test = np.array(_x_test)\n",
        "y_train = np.array(_y_train)\n",
        "y_test = np.array(_y_test)\n",
        "\n",
        "idx = 704\n",
        "plt.imshow(x_train[idx])\n",
        "print(y_train[idx])\n",
        "\n",
        "#(x_train, y_train), (x_test, y_test) = mnist.load_data()\n",
        "XX=[]\n",
        "YY=[]\n",
        "\n",
        "for number in range (10):  \n",
        "  path = \"/var/test/\" + \"{:02d}\".format(number) + \"/\"\n",
        "  files = os.listdir(path)\n",
        "  del XX[:]\n",
        "  del YY[:]\n",
        "  for file in files:\n",
        "#      im2 = Image.open(path + file)\n",
        "      img = np.asarray(cv.imread(path + file,0))\n",
        "      threshold = 66\n",
        "      ret,img = cv.threshold(img,threshold,255,cv.THRESH_TOZERO)\n",
        "#      threshold = 100\n",
        "#      ret,img = cv.threshold(img,threshold,255,cv.THRESH_BINARY)\n",
        "      XX.append(img)\n",
        "      YY.append(number)\n",
        "\n",
        "np.random.seed(1)\n",
        "np.random.shuffle(XX)\n",
        "np.random.seed(1)\n",
        "np.random.shuffle(YY)\n",
        "\n",
        "#x_test = np.array(XX)\n",
        "#y_test = np.array(YY)\n",
        "#(x_train, y_train), (x_test, y_test) = mnist.load_data()"
      ],
      "execution_count": 0,
      "outputs": []
    },
    {
      "cell_type": "code",
      "metadata": {
        "id": "ve0-0z2HcSpv",
        "colab_type": "code",
        "colab": {}
      },
      "source": [
        "if K.image_data_format() == 'channels_first':\n",
        "    x_train = x_train.reshape(x_train.shape[0], 1, img_rows, img_cols)\n",
        "    x_test = x_test.reshape(x_test.shape[0], 1, img_rows, img_cols)\n",
        "    input_shape = (1, img_rows, img_cols)\n",
        "else:\n",
        "    x_train = x_train.reshape(x_train.shape[0], img_rows, img_cols, 1)\n",
        "    x_test = x_test.reshape(x_test.shape[0], img_rows, img_cols, 1)\n",
        "    input_shape = (img_rows, img_cols, 1)"
      ],
      "execution_count": 0,
      "outputs": []
    },
    {
      "cell_type": "code",
      "metadata": {
        "id": "K-v6qXV3eTQv",
        "colab_type": "code",
        "colab": {}
      },
      "source": [
        "x_train = x_train.astype('float32')\n",
        "x_test = x_test.astype('float32')\n",
        "\n",
        "x_train /= 255\n",
        "x_test /= 255\n",
        "\n",
        "print('x_train shape:', x_train.shape)\n",
        "print(x_train.shape[0], 'train samples')\n",
        "print(x_test.shape[0], 'test samples')\n",
        "\n",
        "# convert class vectors to binary class matrices\n",
        "y_train = keras.utils.to_categorical(y_train, num_classes)\n",
        "y_test = keras.utils.to_categorical(y_test, num_classes)\n",
        "\n",
        "model = Sequential()\n",
        "model.add(Conv2D(32, kernel_size=(3, 3),\n",
        "                 activation='relu',\n",
        "                 input_shape=input_shape))\n",
        "model.add(Conv2D(64, (3, 3), activation='relu'))\n",
        "model.add(MaxPooling2D(pool_size=(2, 2)))\n",
        "model.add(Dropout(0.25))\n",
        "model.add(Flatten())\n",
        "model.add(Dense(128, activation='relu'))\n",
        "model.add(Dropout(0.5))\n",
        "model.add(Dense(num_classes, activation='softmax'))\n",
        "\n",
        "model.compile(loss=keras.losses.categorical_crossentropy,\n",
        "              optimizer=keras.optimizers.Adadelta(),\n",
        "              metrics=['accuracy'])\n",
        "\n",
        "model.fit(x_train, y_train,\n",
        "          batch_size=batch_size,\n",
        "          epochs=epochs,\n",
        "          verbose=1,\n",
        "          validation_data=(x_test, y_test))\n",
        "model.save('/var/tmp/ac')\n",
        "score = model.evaluate(x_test, y_test, verbose=0)\n",
        "print('Test loss:', score[0])\n",
        "print('Test accuracy:', score[1])\n",
        "print(score)"
      ],
      "execution_count": 0,
      "outputs": []
    },
    {
      "cell_type": "code",
      "metadata": {
        "id": "wPQDE6faWKgb",
        "colab_type": "code",
        "colab": {}
      },
      "source": [
        "#(x_train, y_train), (x_test, y_test) = mnist.load_data()\n",
        "XX=[]\n",
        "YY=[]\n",
        "\n",
        "for number in range (10):  \n",
        "  path = \"/var/test/\" + \"{:02d}\".format(number) + \"/\"\n",
        "  files = os.listdir(path)\n",
        "  del XX[:]\n",
        "  del YY[:]\n",
        "\n",
        "  for file in files:\n",
        "#      im2 = Image.open(path + file)\n",
        "\n",
        "      img = np.asarray(cv.imread(path + file,0))\n",
        "      threshold = 66\n",
        "      ret,img = cv.threshold(img,threshold,255,cv.THRESH_TOZERO)\n",
        "#      threshold = 100\n",
        "#      ret,img = cv.threshold(img,threshold,255,cv.THRESH_TOZERO)\n",
        "\n",
        "      XX.append(img)\n",
        "      YY.append(number)\n",
        "\n",
        "  x_data = np.array(XX) \n",
        "  y_data = np.array(YY)\n",
        "\n",
        "  if K.image_data_format() == 'channels_first':\n",
        "    x_data = x_data.reshape(x_data.shape[0], 1, img_rows, img_cols)\n",
        "  else:\n",
        "    x_data = x_data.reshape(x_data.shape[0], img_rows, img_cols, 1)\n",
        "\n",
        "  x_data = x_data.astype('float32')\n",
        "  x_data /= 255\n",
        "  y_data = keras.utils.to_categorical(y_data, num_classes)\n",
        "  score = model.evaluate(x_data, y_data, verbose=0)\n",
        "  print('Number :' +str(number))\n",
        "  print('Test loss:', score[0])\n",
        "  print('Test accuracy:', score[1])\n",
        "  expect = model.predict_classes(x_data,batch_size=5)\n",
        "  print(expect)\n",
        "\n",
        "del XX[:]\n",
        "del YY[:]\n",
        "\n",
        "for number in range (10):  \n",
        "  path = \"/var/test/\" + \"{:02d}\".format(number) + \"/\"\n",
        "  files = os.listdir(path)\n",
        "  for file in files:\n",
        "      im2 = Image.open(path + file)\n",
        "      img = np.asarray(cv.imread(path + file,0).reshape(28,28))\n",
        "\n",
        "      threshold = 66\n",
        "      ret,img = cv.threshold(img,threshold,255,cv.THRESH_TOZERO)\n",
        "#      threshold = 100\n",
        "#      ret,img = cv.threshold(img,threshold,255,cv.THRESH_TOZERO)\n",
        "#      ret,img = cv.threshold(img,threshold,255,cv.THRESH_BINARY)\n",
        "      XX.append(img)\n",
        "      YY.append(number)\n",
        "\n",
        "np.random.seed(1)\n",
        "np.random.shuffle(XX)\n",
        "np.random.seed(1)\n",
        "np.random.shuffle(YY)\n",
        "\n",
        "plt.imshow(XX[0])\n",
        "\n",
        "x_data = np.array(XX)\n",
        "y_data = np.array(YY)\n",
        "\n",
        "\n",
        "if K.image_data_format() == 'channels_first':\n",
        "    x_data = x_data.reshape(x_data.shape[0], 1, img_rows, img_cols)\n",
        "else:\n",
        "    x_data = x_data.reshape(x_data.shape[0], img_rows, img_cols, 1)\n",
        "\n",
        "x_data = x_data.astype('float32')\n",
        "x_data /= 255\n",
        "y_data = keras.utils.to_categorical(y_data, num_classes)\n",
        "score = model.evaluate(x_data, y_data, verbose=0)\n",
        "print('=== Total ====')\n",
        "print('Test loss:', score[0])\n",
        "print('Test accuracy:', score[1])\n",
        "\n"
      ],
      "execution_count": 0,
      "outputs": []
    },
    {
      "cell_type": "code",
      "metadata": {
        "id": "rwkQls_uAbhE",
        "colab_type": "code",
        "colab": {}
      },
      "source": [
        ""
      ],
      "execution_count": 0,
      "outputs": []
    }
  ]
}