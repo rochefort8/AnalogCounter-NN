{
  "nbformat": 4,
  "nbformat_minor": 0,
  "metadata": {
    "colab": {
      "name": "analogcounter_cnn.ipynb",
      "provenance": [],
      "collapsed_sections": [],
      "toc_visible": true,
      "include_colab_link": true
    },
    "kernelspec": {
      "name": "python3",
      "display_name": "Python 3"
    },
    "accelerator": "GPU"
  },
  "cells": [
    {
      "cell_type": "markdown",
      "metadata": {
        "id": "view-in-github",
        "colab_type": "text"
      },
      "source": [
        "<a href=\"https://colab.research.google.com/github/rochefort8/AnalogCounter-NN/blob/master/analogcounter_cnn.ipynb\" target=\"_parent\"><img src=\"https://colab.research.google.com/assets/colab-badge.svg\" alt=\"Open In Colab\"/></a>"
      ]
    },
    {
      "cell_type": "markdown",
      "metadata": {
        "id": "JneQLRfWJ1G3",
        "colab_type": "text"
      },
      "source": [
        "## 新しいセクション"
      ]
    },
    {
      "cell_type": "code",
      "metadata": {
        "id": "fECZK-7me4_o",
        "colab_type": "code",
        "colab": {}
      },
      "source": [
        ""
      ],
      "execution_count": 0,
      "outputs": []
    },
    {
      "cell_type": "code",
      "metadata": {
        "id": "pk8Yweix8KZ4",
        "colab_type": "code",
        "outputId": "3d47fae6-39bb-4091-90ba-06efc9ab0bef",
        "colab": {
          "base_uri": "https://localhost:8080/",
          "height": 34
        }
      },
      "source": [
        "from google.colab import drive\n",
        "drive.mount('/content/drive', force_remount=True)\n",
        "\n",
        "!rm -rf /var/test\n",
        "!rm -rf /var/input\n",
        "\n",
        "!tar zxpf  \"/content/drive/My Drive/AC/input.tar.gz\" -C /var \n",
        "!tar zxpf  \"/content/drive/My Drive/AC/test.tar.gz\" -C /var \n",
        "#!tar zxpf /var/input.tar.gz -C /var\n",
        "#!tar zxpf /var/test.tar.gz -C /var"
      ],
      "execution_count": 71,
      "outputs": [
        {
          "output_type": "stream",
          "text": [
            "Mounted at /content/drive\n"
          ],
          "name": "stdout"
        }
      ]
    },
    {
      "cell_type": "code",
      "metadata": {
        "id": "U9qs4lPyFpnv",
        "colab_type": "code",
        "colab": {}
      },
      "source": [
        "#!rm /var/input.tar.gz"
      ],
      "execution_count": 0,
      "outputs": []
    },
    {
      "cell_type": "code",
      "metadata": {
        "id": "gIwHNLGIJ-ql",
        "colab_type": "code",
        "colab": {}
      },
      "source": [
        "'''Trains a simple convnet on the MNIST dataset.\n",
        "Gets to 99.25% test accuracy after 12 epochs\n",
        "(there is still a lot of margin for parameter tuning).\n",
        "16 seconds per epoch on a GRID K520 GPU.\n",
        "'''\n",
        "\n",
        "from __future__ import print_function\n",
        "import keras\n",
        "from keras.datasets import mnist\n",
        "from keras.models import Sequential\n",
        "from keras.layers import Dense, Dropout, Flatten\n",
        "from keras.layers import Conv2D, MaxPooling2D\n",
        "from keras import backend as K\n",
        "\n",
        "from PIL import Image\n",
        "from io import BytesIO \n",
        "\n",
        "import cv2 as cv\n",
        "\n",
        "import matplotlib.pyplot as plt\n",
        "import numpy as np\n",
        "import os\n",
        "\n",
        "from keras.preprocessing.image import array_to_img, img_to_array, load_img\n",
        "from sklearn.model_selection import train_test_split\n",
        "\n",
        "batch_size = 128\n",
        "num_classes = 10\n",
        "epochs = 12\n",
        "\n",
        "# input image dimensions\n",
        "img_rows, img_cols = 28, 28"
      ],
      "execution_count": 0,
      "outputs": []
    },
    {
      "cell_type": "code",
      "metadata": {
        "id": "0cuupkHfYOwM",
        "colab_type": "code",
        "colab": {}
      },
      "source": [
        "\n",
        "# the data, split between train and test sets\n",
        "#(x_train, y_train), (x_test, y_test) = mnist.load_data()\n",
        "# print(type(y_train))"
      ],
      "execution_count": 0,
      "outputs": []
    },
    {
      "cell_type": "code",
      "metadata": {
        "id": "-LdKxeQ9ypW3",
        "colab_type": "code",
        "outputId": "75ed0205-499c-405a-8f38-79079b56fa10",
        "colab": {
          "base_uri": "https://localhost:8080/",
          "height": 452
        }
      },
      "source": [
        "X=[]\n",
        "Y=[]\n",
        "\n",
        "for number in range (10):  \n",
        "  path = \"/var/input/\" + str(number) + \"/\"\n",
        "  files = os.listdir(path)\n",
        "  print(number)\n",
        "  for file in files:\n",
        "      img = np.asarray(cv.imread(path + file,0))\n",
        "\n",
        "#      threshold = 66\n",
        "#      ret,img = cv.threshold(img,threshold,255,cv.THRESH_TOZERO)\n",
        "#      threshold = 100\n",
        "#      ret,img = cv.threshold(img,threshold,255,cv.THRESH_BINARY)\n",
        "\n",
        "      X.append(img)\n",
        "      Y.append(number)\n",
        "\n",
        "np.random.seed(1)\n",
        "np.random.shuffle(X)\n",
        "np.random.seed(1)\n",
        "np.random.shuffle(Y)\n",
        "\n",
        "#x_train = np.array(X)\n",
        "#y_train = np.array(Y)\n",
        "_x_train, _x_test, _y_train, _y_test =train_test_split(X, Y, test_size=0.33, random_state=111)\n",
        "x_train = np.array(_x_train)\n",
        "x_test = np.array(_x_test)\n",
        "y_train = np.array(_y_train)\n",
        "y_test = np.array(_y_test)\n",
        "\n",
        "idx = 704\n",
        "plt.imshow(x_train[idx])\n",
        "print(y_train[idx])\n",
        "\n",
        "#(x_train, y_train), (x_test, y_test) = mnist.load_data()\n",
        "XX=[]\n",
        "YY=[]\n",
        "\n",
        "for number in range (10):  \n",
        "  path = \"/var/test/\" + \"{:02d}\".format(number) + \"/\"\n",
        "  files = os.listdir(path)\n",
        "  del XX[:]\n",
        "  del YY[:]\n",
        "  for file in files:\n",
        "#      im2 = Image.open(path + file)\n",
        "      img = np.asarray(cv.imread(path + file,0))\n",
        "      threshold = 66\n",
        "      ret,img = cv.threshold(img,threshold,255,cv.THRESH_TOZERO)\n",
        "#      threshold = 100\n",
        "#      ret,img = cv.threshold(img,threshold,255,cv.THRESH_BINARY)\n",
        "      XX.append(img)\n",
        "      YY.append(number)\n",
        "\n",
        "np.random.seed(1)\n",
        "np.random.shuffle(XX)\n",
        "np.random.seed(1)\n",
        "np.random.shuffle(YY)\n",
        "\n",
        "#x_test = np.array(XX)\n",
        "#y_test = np.array(YY)\n",
        "#(x_train, y_train), (x_test, y_test) = mnist.load_data()"
      ],
      "execution_count": 75,
      "outputs": [
        {
          "output_type": "stream",
          "text": [
            "0\n",
            "1\n",
            "2\n",
            "3\n",
            "4\n",
            "5\n",
            "6\n",
            "7\n",
            "8\n",
            "9\n",
            "0\n"
          ],
          "name": "stdout"
        },
        {
          "output_type": "display_data",
          "data": {
            "image/png": "[encoded data removed]",
            "text/plain": [
              "<Figure size 432x288 with 1 Axes>"
            ]
          },
          "metadata": {
            "tags": []
          }
        }
      ]
    },
    {
      "cell_type": "code",
      "metadata": {
        "id": "ve0-0z2HcSpv",
        "colab_type": "code",
        "colab": {}
      },
      "source": [
        "if K.image_data_format() == 'channels_first':\n",
        "    x_train = x_train.reshape(x_train.shape[0], 1, img_rows, img_cols)\n",
        "    x_test = x_test.reshape(x_test.shape[0], 1, img_rows, img_cols)\n",
        "    input_shape = (1, img_rows, img_cols)\n",
        "else:\n",
        "    x_train = x_train.reshape(x_train.shape[0], img_rows, img_cols, 1)\n",
        "    x_test = x_test.reshape(x_test.shape[0], img_rows, img_cols, 1)\n",
        "    input_shape = (img_rows, img_cols, 1)"
      ],
      "execution_count": 0,
      "outputs": []
    },
    {
      "cell_type": "code",
      "metadata": {
        "id": "K-v6qXV3eTQv",
        "colab_type": "code",
        "outputId": "2bef50cc-cc1d-4be7-d9db-bfb7a174014a",
        "colab": {
          "base_uri": "https://localhost:8080/",
          "height": 564
        }
      },
      "source": [
        "x_train = x_train.astype('float32')\n",
        "x_test = x_test.astype('float32')\n",
        "\n",
        "x_train /= 255\n",
        "x_test /= 255\n",
        "\n",
        "print('x_train shape:', x_train.shape)\n",
        "print(x_train.shape[0], 'train samples')\n",
        "print(x_test.shape[0], 'test samples')\n",
        "\n",
        "# convert class vectors to binary class matrices\n",
        "y_train = keras.utils.to_categorical(y_train, num_classes)\n",
        "y_test = keras.utils.to_categorical(y_test, num_classes)\n",
        "\n",
        "model = Sequential()\n",
        "model.add(Conv2D(32, kernel_size=(3, 3),\n",
        "                 activation='relu',\n",
        "                 input_shape=input_shape))\n",
        "model.add(Conv2D(64, (3, 3), activation='relu'))\n",
        "model.add(MaxPooling2D(pool_size=(2, 2)))\n",
        "model.add(Dropout(0.25))\n",
        "model.add(Flatten())\n",
        "model.add(Dense(128, activation='relu'))\n",
        "model.add(Dropout(0.5))\n",
        "model.add(Dense(num_classes, activation='softmax'))\n",
        "\n",
        "model.compile(loss=keras.losses.categorical_crossentropy,\n",
        "              optimizer=keras.optimizers.Adadelta(),\n",
        "              metrics=['accuracy'])\n",
        "\n",
        "model.fit(x_train, y_train,\n",
        "          batch_size=batch_size,\n",
        "          epochs=epochs,\n",
        "          verbose=1,\n",
        "          validation_data=(x_test, y_test))\n",
        "model.save('/var/tmp/ac')\n",
        "score = model.evaluate(x_test, y_test, verbose=0)\n",
        "print('Test loss:', score[0])\n",
        "print('Test accuracy:', score[1])\n",
        "print(score)"
      ],
      "execution_count": 77,
      "outputs": [
        {
          "output_type": "stream",
          "text": [
            "x_train shape: (7530, 28, 28, 1)\n",
            "7530 train samples\n",
            "3710 test samples\n",
            "Train on 7530 samples, validate on 3710 samples\n",
            "Epoch 1/12\n",
            "7530/7530 [==============================] - 3s 376us/step - loss: 1.0437 - acc: 0.6645 - val_loss: 0.3345 - val_acc: 0.9102\n",
            "Epoch 2/12\n",
            "7530/7530 [==============================] - 1s 170us/step - loss: 0.2621 - acc: 0.9244 - val_loss: 0.1099 - val_acc: 0.9730\n",
            "Epoch 3/12\n",
            "7530/7530 [==============================] - 1s 178us/step - loss: 0.1358 - acc: 0.9633 - val_loss: 0.0851 - val_acc: 0.9765\n",
            "Epoch 4/12\n",
            "7530/7530 [==============================] - 1s 172us/step - loss: 0.0906 - acc: 0.9744 - val_loss: 0.0597 - val_acc: 0.9841\n",
            "Epoch 5/12\n",
            "7530/7530 [==============================] - 1s 168us/step - loss: 0.0644 - acc: 0.9806 - val_loss: 0.0406 - val_acc: 0.9889\n",
            "Epoch 6/12\n",
            "7530/7530 [==============================] - 1s 175us/step - loss: 0.0561 - acc: 0.9835 - val_loss: 0.0405 - val_acc: 0.9889\n",
            "Epoch 7/12\n",
            "7530/7530 [==============================] - 1s 174us/step - loss: 0.0399 - acc: 0.9887 - val_loss: 0.0312 - val_acc: 0.9914\n",
            "Epoch 8/12\n",
            "7530/7530 [==============================] - 1s 171us/step - loss: 0.0317 - acc: 0.9914 - val_loss: 0.0264 - val_acc: 0.9927\n",
            "Epoch 9/12\n",
            "7530/7530 [==============================] - 1s 171us/step - loss: 0.0291 - acc: 0.9908 - val_loss: 0.0245 - val_acc: 0.9935\n",
            "Epoch 10/12\n",
            "7530/7530 [==============================] - 1s 177us/step - loss: 0.0273 - acc: 0.9906 - val_loss: 0.0250 - val_acc: 0.9927\n",
            "Epoch 11/12\n",
            "7530/7530 [==============================] - 1s 178us/step - loss: 0.0221 - acc: 0.9938 - val_loss: 0.0222 - val_acc: 0.9946\n",
            "Epoch 12/12\n",
            "7530/7530 [==============================] - 1s 171us/step - loss: 0.0182 - acc: 0.9946 - val_loss: 0.0205 - val_acc: 0.9949\n",
            "Test loss: 0.020486927607973455\n",
            "Test accuracy: 0.994878706199461\n",
            "[0.020486927607973455, 0.994878706199461]\n"
          ],
          "name": "stdout"
        }
      ]
    },
    {
      "cell_type": "code",
      "metadata": {
        "id": "wPQDE6faWKgb",
        "colab_type": "code",
        "outputId": "17ae44af-2e65-463c-88bc-b51da7fc55d7",
        "colab": {
          "base_uri": "https://localhost:8080/",
          "height": 996
        }
      },
      "source": [
        "#(x_train, y_train), (x_test, y_test) = mnist.load_data()\n",
        "XX=[]\n",
        "YY=[]\n",
        "\n",
        "for number in range (10):  \n",
        "  path = \"/var/test/\" + \"{:02d}\".format(number) + \"/\"\n",
        "  files = os.listdir(path)\n",
        "  del XX[:]\n",
        "  del YY[:]\n",
        "\n",
        "  for file in files:\n",
        "#      im2 = Image.open(path + file)\n",
        "\n",
        "      img = np.asarray(cv.imread(path + file,0))\n",
        "      threshold = 66\n",
        "      ret,img = cv.threshold(img,threshold,255,cv.THRESH_TOZERO)\n",
        "#      threshold = 100\n",
        "#      ret,img = cv.threshold(img,threshold,255,cv.THRESH_TOZERO)\n",
        "\n",
        "      XX.append(img)\n",
        "      YY.append(number)\n",
        "\n",
        "  x_data = np.array(XX) \n",
        "  y_data = np.array(YY)\n",
        "\n",
        "  if K.image_data_format() == 'channels_first':\n",
        "    x_data = x_data.reshape(x_data.shape[0], 1, img_rows, img_cols)\n",
        "  else:\n",
        "    x_data = x_data.reshape(x_data.shape[0], img_rows, img_cols, 1)\n",
        "\n",
        "  x_data = x_data.astype('float32')\n",
        "  x_data /= 255\n",
        "  y_data = keras.utils.to_categorical(y_data, num_classes)\n",
        "  score = model.evaluate(x_data, y_data, verbose=0)\n",
        "  print('Number :' +str(number))\n",
        "  print('Test loss:', score[0])\n",
        "  print('Test accuracy:', score[1])\n",
        "  expect = model.predict_classes(x_data,batch_size=5)\n",
        "  print(expect)\n",
        "\n",
        "del XX[:]\n",
        "del YY[:]\n",
        "\n",
        "for number in range (10):  \n",
        "  path = \"/var/test/\" + \"{:02d}\".format(number) + \"/\"\n",
        "  files = os.listdir(path)\n",
        "  for file in files:\n",
        "      im2 = Image.open(path + file)\n",
        "      img = np.asarray(cv.imread(path + file,0).reshape(28,28))\n",
        "\n",
        "      threshold = 66\n",
        "      ret,img = cv.threshold(img,threshold,255,cv.THRESH_TOZERO)\n",
        "#      threshold = 100\n",
        "#      ret,img = cv.threshold(img,threshold,255,cv.THRESH_TOZERO)\n",
        "#      ret,img = cv.threshold(img,threshold,255,cv.THRESH_BINARY)\n",
        "      XX.append(img)\n",
        "      YY.append(number)\n",
        "\n",
        "np.random.seed(1)\n",
        "np.random.shuffle(XX)\n",
        "np.random.seed(1)\n",
        "np.random.shuffle(YY)\n",
        "\n",
        "plt.imshow(XX[0])\n",
        "\n",
        "x_data = np.array(XX)\n",
        "y_data = np.array(YY)\n",
        "\n",
        "\n",
        "if K.image_data_format() == 'channels_first':\n",
        "    x_data = x_data.reshape(x_data.shape[0], 1, img_rows, img_cols)\n",
        "else:\n",
        "    x_data = x_data.reshape(x_data.shape[0], img_rows, img_cols, 1)\n",
        "\n",
        "x_data = x_data.astype('float32')\n",
        "x_data /= 255\n",
        "y_data = keras.utils.to_categorical(y_data, num_classes)\n",
        "score = model.evaluate(x_data, y_data, verbose=0)\n",
        "print('=== Total ====')\n",
        "print('Test loss:', score[0])\n",
        "print('Test accuracy:', score[1])\n",
        "\n"
      ],
      "execution_count": 78,
      "outputs": [
        {
          "output_type": "stream",
          "text": [
            "Number :0\n",
            "Test loss: 0.07764292508363724\n",
            "Test accuracy: 1.0\n",
            "[0 0 0 0 0 0 0 0 0 0 0 0 0 0 0 0 0 0 0 0 0 0 0 0 0]\n",
            "Number :1\n",
            "Test loss: 0.0038528505247086287\n",
            "Test accuracy: 1.0\n",
            "[1 1 1 1 1 1 1 1 1 1 1 1 1 1 1 1 1 1 1 1 1 1 1 1 1]\n",
            "Number :2\n",
            "Test loss: 0.0786777213215828\n",
            "Test accuracy: 0.9599999785423279\n",
            "[2 2 2 2 2 2 2 2 2 2 2 2 7 2 2 2 2 2 2 2 2 2 2 2 2]\n",
            "Number :3\n",
            "Test loss: 0.06040415167808533\n",
            "Test accuracy: 0.9599999785423279\n",
            "[3 3 3 3 3 3 3 3 3 3 3 3 3 3 3 3 3 1 3 3 3 3 3 3 3]\n",
            "Number :4\n",
            "Test loss: 0.025700245052576065\n",
            "Test accuracy: 1.0\n",
            "[4 4 4 4 4 4 4 4 4 4 4 4 4 4 4 4 4 4 4 4 4 4 4 4 4]\n",
            "Number :5\n",
            "Test loss: 0.01194782741367817\n",
            "Test accuracy: 1.0\n",
            "[5 5 5 5 5 5 5 5 5 5 5 5 5 5 5 5 5 5 5 5 5 5 5 5 5]\n",
            "Number :6\n",
            "Test loss: 0.1464880406856537\n",
            "Test accuracy: 1.0\n",
            "[6 6 6 6 6 6 6 6 6 6 6 6 6 6 6 6 6 6 6 6 6 6 6 6 6]\n",
            "Number :7\n",
            "Test loss: 0.04290410503745079\n",
            "Test accuracy: 1.0\n",
            "[7 7 7 7 7 7 7 7 7 7 7 7 7 7 7 7 7 7 7 7 7 7 7 7 7]\n",
            "Number :8\n",
            "Test loss: 0.004644074477255344\n",
            "Test accuracy: 1.0\n",
            "[8 8 8 8 8 8 8 8 8 8 8 8 8 8 8 8 8 8 8 8 8 8 8 8 8]\n",
            "Number :9\n",
            "Test loss: 0.0023102641571313143\n",
            "Test accuracy: 1.0\n",
            "[9 9 9 9 9 9 9 9 9 9 9 9 9 9 9 9 9 9 9 9 9 9 9 9 9]\n",
            "=== Total ====\n",
            "Test loss: 0.04545722153782845\n",
            "Test accuracy: 0.992\n"
          ],
          "name": "stdout"
        },
        {
          "output_type": "display_data",
          "data": {
            "image/png": "[encoded data removed]",
            "text/plain": [
              "<Figure size 432x288 with 1 Axes>"
            ]
          },
          "metadata": {
            "tags": []
          }
        }
      ]
    },
    {
      "cell_type": "code",
      "metadata": {
        "id": "rwkQls_uAbhE",
        "colab_type": "code",
        "colab": {}
      },
      "source": [
        ""
      ],
      "execution_count": 0,
      "outputs": []
    }
  ]
}