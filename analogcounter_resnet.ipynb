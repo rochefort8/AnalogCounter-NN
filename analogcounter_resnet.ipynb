{
  "nbformat": 4,
  "nbformat_minor": 0,
  "metadata": {
    "colab": {
      "name": "analogcounter_resnet.ipynb",
      "provenance": [],
      "collapsed_sections": [],
      "toc_visible": true,
      "include_colab_link": true
    },
    "kernelspec": {
      "name": "python3",
      "display_name": "Python 3"
    },
    "accelerator": "GPU"
  },
  "cells": [
    {
      "cell_type": "markdown",
      "metadata": {
        "id": "view-in-github",
        "colab_type": "text"
      },
      "source": [
        "<a href=\"https://colab.research.google.com/github/rochefort8/AnalogCounter-NN/blob/master/analogcounter_resnet.ipynb\" target=\"_parent\"><img src=\"https://colab.research.google.com/assets/colab-badge.svg\" alt=\"Open In Colab\"/></a>"
      ]
    },
    {
      "cell_type": "markdown",
      "metadata": {
        "id": "JneQLRfWJ1G3",
        "colab_type": "text"
      },
      "source": [
        "## 新しいセクション"
      ]
    },
    {
      "cell_type": "code",
      "metadata": {
        "id": "fECZK-7me4_o",
        "colab_type": "code",
        "colab": {}
      },
      "source": [
        ""
      ],
      "execution_count": 0,
      "outputs": []
    },
    {
      "cell_type": "code",
      "metadata": {
        "id": "pk8Yweix8KZ4",
        "colab_type": "code",
        "outputId": "404809d3-421e-4468-e9a9-98273e653874",
        "colab": {
          "base_uri": "https://localhost:8080/",
          "height": 122
        }
      },
      "source": [
        "from google.colab import drive\n",
        "drive.mount('/content/drive', force_remount=True)\n",
        "\n",
        "!rm -rf /var/test\n",
        "!rm -rf /var/input\n",
        "\n",
        "!tar zxpf  \"/content/drive/My Drive/AC/input.tar.gz\" -C /var \n",
        "!tar zxpf  \"/content/drive/My Drive/AC/test.tar.gz\" -C /var \n",
        "#!tar zxpf /var/input.tar.gz -C /var\n",
        "#!tar zxpf /var/test.tar.gz -C /var"
      ],
      "execution_count": 0,
      "outputs": [
        {
          "output_type": "stream",
          "text": [
            "Go to this URL in a browser: https://accounts.google.com/o/oauth2/auth?client_id=947318989803-6bn6qk8qdgf4n4g3pfee6491hc0brc4i.apps.googleusercontent.com&redirect_uri=urn%3aietf%3awg%3aoauth%3a2.0%3aoob&response_type=code&scope=email%20https%3a%2f%2fwww.googleapis.com%2fauth%2fdocs.test%20https%3a%2f%2fwww.googleapis.com%2fauth%2fdrive%20https%3a%2f%2fwww.googleapis.com%2fauth%2fdrive.photos.readonly%20https%3a%2f%2fwww.googleapis.com%2fauth%2fpeopleapi.readonly\n",
            "\n",
            "Enter your authorization code:\n",
            "··········\n",
            "Mounted at /content/drive\n"
          ],
          "name": "stdout"
        }
      ]
    },
    {
      "cell_type": "code",
      "metadata": {
        "id": "U9qs4lPyFpnv",
        "colab_type": "code",
        "colab": {}
      },
      "source": [
        "#!rm /var/input.tar.gz"
      ],
      "execution_count": 0,
      "outputs": []
    },
    {
      "cell_type": "code",
      "metadata": {
        "id": "gIwHNLGIJ-ql",
        "colab_type": "code",
        "outputId": "dc18dc79-b641-4a40-af35-ecdf9697f458",
        "colab": {
          "base_uri": "https://localhost:8080/",
          "height": 97
        }
      },
      "source": [
        "'''Trains a simple convnet on the MNIST dataset.\n",
        "Gets to 99.25% test accuracy after 12 epochs\n",
        "(there is still a lot of margin for parameter tuning).\n",
        "16 seconds per epoch on a GRID K520 GPU.\n",
        "'''\n",
        "\n",
        "from __future__ import print_function\n",
        "import keras\n",
        "from keras.datasets import mnist\n",
        "from keras.models import Sequential\n",
        "from keras.layers import Dense, Dropout, Flatten\n",
        "from keras.layers import Conv2D, MaxPooling2D\n",
        "from keras import backend as K\n",
        "\n",
        "from PIL import Image\n",
        "from io import BytesIO \n",
        "\n",
        "import cv2 as cv\n",
        "\n",
        "import matplotlib.pyplot as plt\n",
        "import numpy as np\n",
        "import os\n",
        "\n",
        "from keras.preprocessing.image import array_to_img, img_to_array, load_img\n",
        "from sklearn.model_selection import train_test_split\n",
        "\n",
        "batch_size = 128\n",
        "num_classes = 10\n",
        "epochs = 12\n",
        "\n",
        "# input image dimensions\n",
        "img_rows, img_cols = 28, 28"
      ],
      "execution_count": 0,
      "outputs": [
        {
          "output_type": "stream",
          "text": [
            "Using TensorFlow backend.\n"
          ],
          "name": "stderr"
        },
        {
          "output_type": "display_data",
          "data": {
            "text/html": [
              "<p style=\"color: red;\">\n",
              "The default version of TensorFlow in Colab will soon switch to TensorFlow 2.x.<br>\n",
              "We recommend you <a href=\"https://www.tensorflow.org/guide/migrate\" target=\"_blank\">upgrade</a> now \n",
              "or ensure your notebook will continue to use TensorFlow 1.x via the <code>%tensorflow_version 1.x</code> magic:\n",
              "<a href=\"https://colab.research.google.com/notebooks/tensorflow_version.ipynb\" target=\"_blank\">more info</a>.</p>\n"
            ],
            "text/plain": [
              "<IPython.core.display.HTML object>"
            ]
          },
          "metadata": {
            "tags": []
          }
        }
      ]
    },
    {
      "cell_type": "markdown",
      "metadata": {
        "id": "2WM1ogEZIW64",
        "colab_type": "text"
      },
      "source": [
        ""
      ]
    },
    {
      "cell_type": "code",
      "metadata": {
        "colab_type": "code",
        "id": "JjVfDpz_C_Ut",
        "colab": {}
      },
      "source": [
        "from keras.datasets import mnist\n",
        "from keras.layers import Dense, Dropout, Activation, Flatten, Input, add\n",
        "from keras.layers import Conv2D, MaxPooling2D, AveragePooling2D\n",
        "from keras.layers.normalization import BatchNormalization\n",
        "from keras import Model\n",
        "from keras import backend as K\n",
        "\n",
        "def rescell(data, filters, kernel_size, option=False):\n",
        "    strides=(1,1)\n",
        "    if option:\n",
        "        strides=(2,2)\n",
        "    x=Conv2D(filters=filters,kernel_size=kernel_size,strides=strides,padding=\"same\")(data)\n",
        "    x=BatchNormalization()(x)\n",
        "    x=Activation('relu')(x)\n",
        "    \n",
        "    data=Conv2D(filters=int(x.shape[3]), kernel_size=(1,1), strides=strides, padding=\"same\")(data)\n",
        "    x=Conv2D(filters=filters,kernel_size=kernel_size,strides=(1,1),padding=\"same\")(x)\n",
        "    x=BatchNormalization()(x)\n",
        "    x=add([x,data])\n",
        "    x=Activation('relu')(x)\n",
        "    return x\n",
        "\n",
        "def ResNet(img_rows, img_cols, img_channels, x_train):\n",
        "\tinput=Input(shape=(img_rows,img_cols,img_channels))\n",
        "\tx=Conv2D(32,(7,7), padding=\"same\", input_shape=x_train.shape[1:],activation=\"relu\")(input)\n",
        "\tx=MaxPooling2D(pool_size=(2,2))(x)\n",
        "\n",
        "\tx=rescell(x,64,(3,3))\n",
        "\tx=rescell(x,64,(3,3))\n",
        "\tx=rescell(x,64,(3,3))\n",
        "\n",
        "\tx=rescell(x,128,(3,3),True)\n",
        "\n",
        "\tx=rescell(x,128,(3,3))\n",
        "\tx=rescell(x,128,(3,3))\n",
        "\tx=rescell(x,128,(3,3))\n",
        "\n",
        "\tx=rescell(x,256,(3,3),True)\n",
        "\n",
        "\tx=rescell(x,256,(3,3))\n",
        "\tx=rescell(x,256,(3,3))\n",
        "\tx=rescell(x,256,(3,3))\n",
        "\tx=rescell(x,256,(3,3))\n",
        "\tx=rescell(x,256,(3,3))\n",
        "\n",
        "\tx=rescell(x,512,(3,3),True)\n",
        "\n",
        "\tx=rescell(x,512,(3,3))\n",
        "\tx=rescell(x,512,(3,3))\n",
        "\n",
        "\tx=AveragePooling2D(pool_size=(int(x.shape[1]),int(x.shape[2])),strides=(2,2))(x)\n",
        "\n",
        "\tx=Flatten()(x)\n",
        "\tx=Dense(units=10,kernel_initializer=\"he_normal\",activation=\"softmax\")(x)\n",
        "\tmodel=Model(inputs=input,outputs=[x])\n",
        "\treturn model\n",
        "\n",
        "  # 入力画像の次元とチャンネル\n",
        "img_rows, img_cols, img_channels = 28, 28, 1"
      ],
      "execution_count": 0,
      "outputs": []
    },
    {
      "cell_type": "code",
      "metadata": {
        "colab_type": "code",
        "id": "BKPONmf2C9IG",
        "colab": {}
      },
      "source": [
        "\n",
        "# the data, split between train and test sets\n",
        "# (x_train, y_train), (x_test, y_test) = mnist.load_data()\n",
        "# print(type(y_train))"
      ],
      "execution_count": 0,
      "outputs": []
    },
    {
      "cell_type": "code",
      "metadata": {
        "id": "-LdKxeQ9ypW3",
        "colab_type": "code",
        "outputId": "0738d5b4-2e00-428e-f466-5b047534f0f5",
        "colab": {
          "base_uri": "https://localhost:8080/",
          "height": 452
        }
      },
      "source": [
        "X=[]\n",
        "Y=[]\n",
        "\n",
        "for number in range (10):  \n",
        "  path = \"/var/input/\" + str(number) + \"/\"\n",
        "  files = os.listdir(path)\n",
        "  print(number)\n",
        "  for file in files:\n",
        "      img = np.asarray(cv.imread(path + file,0))\n",
        "\n",
        "#      threshold = 66\n",
        "#      ret,img = cv.threshold(img,threshold,255,cv.THRESH_TOZERO)\n",
        "#      threshold = 100\n",
        "#      ret,img = cv.threshold(img,threshold,255,cv.THRESH_BINARY)\n",
        "\n",
        "      X.append(img)\n",
        "      Y.append(number)\n",
        "\n",
        "np.random.seed(1)\n",
        "np.random.shuffle(X)\n",
        "np.random.seed(1)\n",
        "np.random.shuffle(Y)\n",
        "\n",
        "_x_train, _x_test, _y_train, _y_test =train_test_split(X, Y, test_size=0.33, random_state=111)\n",
        "\n",
        "x_train = np.array(_x_train)\n",
        "x_test = np.array(_x_test)\n",
        "y_train = np.array(_y_train)\n",
        "y_test = np.array(_y_test)\n",
        "\n",
        "idx = 704\n",
        "plt.imshow(x_train[idx])\n",
        "print(y_train[idx])\n",
        "\n",
        "#(x_train, y_train), (x_test, y_test) = mnist.load_data()\n",
        "XX=[]\n",
        "YY=[]\n",
        "\n",
        "for number in range (10):  \n",
        "  path = \"/var/test/\" + \"{:02d}\".format(number) + \"/\"\n",
        "  files = os.listdir(path)\n",
        "  del XX[:]\n",
        "  del YY[:]\n",
        "  for file in files:\n",
        "#      im2 = Image.open(path + file)\n",
        "      img = np.asarray(cv.imread(path + file,0))\n",
        "      threshold = 66\n",
        "      ret,img = cv.threshold(img,threshold,255,cv.THRESH_TOZERO)\n",
        "#      threshold = 100\n",
        "#      ret,img = cv.threshold(img,threshold,255,cv.THRESH_BINARY)\n",
        "      XX.append(img)\n",
        "      YY.append(number)\n",
        "\n",
        "np.random.seed(1)\n",
        "np.random.shuffle(XX)\n",
        "np.random.seed(1)\n",
        "np.random.shuffle(YY)\n",
        "\n",
        "#x_test = np.array(XX)\n",
        "#y_test = np.array(YY)\n"
      ],
      "execution_count": 0,
      "outputs": [
        {
          "output_type": "stream",
          "text": [
            "0\n",
            "1\n",
            "2\n",
            "3\n",
            "4\n",
            "5\n",
            "6\n",
            "7\n",
            "8\n",
            "9\n",
            "4\n"
          ],
          "name": "stdout"
        },
        {
          "output_type": "display_data",
          "data": {
            "image/png": "[encoded data removed]",
            "text/plain": [
              "<Figure size 432x288 with 1 Axes>"
            ]
          },
          "metadata": {
            "tags": []
          }
        }
      ]
    },
    {
      "cell_type": "code",
      "metadata": {
        "id": "ve0-0z2HcSpv",
        "colab_type": "code",
        "colab": {}
      },
      "source": [
        "if K.image_data_format() == 'channels_first':\n",
        "    x_train = x_train.reshape(x_train.shape[0], 1, img_rows, img_cols)\n",
        "    x_test = x_test.reshape(x_test.shape[0], 1, img_rows, img_cols)\n",
        "    input_shape = (1, img_rows, img_cols)\n",
        "else:\n",
        "    x_train = x_train.reshape(x_train.shape[0], img_rows, img_cols, 1)\n",
        "    x_test = x_test.reshape(x_test.shape[0], img_rows, img_cols, 1)\n",
        "    input_shape = (img_rows, img_cols, 1)"
      ],
      "execution_count": 0,
      "outputs": []
    },
    {
      "cell_type": "code",
      "metadata": {
        "id": "K-v6qXV3eTQv",
        "colab_type": "code",
        "outputId": "ec4fb217-7a18-4fe3-8a79-ac7a32b1eb0f",
        "colab": {
          "base_uri": "https://localhost:8080/",
          "height": 1000
        }
      },
      "source": [
        "x_train = x_train.astype('float32')\n",
        "x_test = x_test.astype('float32')\n",
        "\n",
        "x_train /= 255\n",
        "x_test /= 255\n",
        "\n",
        "print('x_train shape:', x_train.shape)\n",
        "print(x_train.shape[0], 'train samples')\n",
        "print(x_test.shape[0], 'test samples')\n",
        "\n",
        "# convert class vectors to binary class matrices\n",
        "y_train = keras.utils.to_categorical(y_train, num_classes)\n",
        "y_test = keras.utils.to_categorical(y_test, num_classes)\n",
        "\n",
        "\n",
        "model=ResNet(img_rows,img_cols,img_channels, x_train)\n",
        "#model.compile(loss='categorical_crossentropy',\n",
        "#                  optimizer='adam',\n",
        "#                  metrics=['accuracy'])\n",
        "\n",
        "model.compile(loss=keras.losses.categorical_crossentropy,\n",
        "              optimizer=keras.optimizers.Adadelta(),\n",
        "              metrics=['accuracy'])\n",
        "\n",
        "model.fit(x_train, y_train,\n",
        "          batch_size=batch_size,\n",
        "          epochs=epochs,\n",
        "          verbose=1,\n",
        "          validation_data=(x_test, y_test))\n",
        "\n",
        "model.save('/var/tmp/ac')\n",
        "score = model.evaluate(x_test, y_test, verbose=0)\n",
        "print('Test loss:', score[0])\n",
        "print('Test accuracy:', score[1])\n",
        "print(score)"
      ],
      "execution_count": 0,
      "outputs": [
        {
          "output_type": "stream",
          "text": [
            "x_train shape: (12614, 28, 28, 1)\n",
            "12614 train samples\n",
            "6213 test samples\n",
            "WARNING:tensorflow:From /usr/local/lib/python3.6/dist-packages/keras/backend/tensorflow_backend.py:66: The name tf.get_default_graph is deprecated. Please use tf.compat.v1.get_default_graph instead.\n",
            "\n",
            "WARNING:tensorflow:From /usr/local/lib/python3.6/dist-packages/keras/backend/tensorflow_backend.py:541: The name tf.placeholder is deprecated. Please use tf.compat.v1.placeholder instead.\n",
            "\n",
            "WARNING:tensorflow:From /usr/local/lib/python3.6/dist-packages/keras/backend/tensorflow_backend.py:4432: The name tf.random_uniform is deprecated. Please use tf.random.uniform instead.\n",
            "\n",
            "WARNING:tensorflow:From /usr/local/lib/python3.6/dist-packages/keras/backend/tensorflow_backend.py:4267: The name tf.nn.max_pool is deprecated. Please use tf.nn.max_pool2d instead.\n",
            "\n",
            "WARNING:tensorflow:From /usr/local/lib/python3.6/dist-packages/keras/backend/tensorflow_backend.py:190: The name tf.get_default_session is deprecated. Please use tf.compat.v1.get_default_session instead.\n",
            "\n",
            "WARNING:tensorflow:From /usr/local/lib/python3.6/dist-packages/keras/backend/tensorflow_backend.py:197: The name tf.ConfigProto is deprecated. Please use tf.compat.v1.ConfigProto instead.\n",
            "\n",
            "WARNING:tensorflow:From /usr/local/lib/python3.6/dist-packages/keras/backend/tensorflow_backend.py:203: The name tf.Session is deprecated. Please use tf.compat.v1.Session instead.\n",
            "\n",
            "WARNING:tensorflow:From /usr/local/lib/python3.6/dist-packages/keras/backend/tensorflow_backend.py:207: The name tf.global_variables is deprecated. Please use tf.compat.v1.global_variables instead.\n",
            "\n",
            "WARNING:tensorflow:From /usr/local/lib/python3.6/dist-packages/keras/backend/tensorflow_backend.py:216: The name tf.is_variable_initialized is deprecated. Please use tf.compat.v1.is_variable_initialized instead.\n",
            "\n",
            "WARNING:tensorflow:From /usr/local/lib/python3.6/dist-packages/keras/backend/tensorflow_backend.py:223: The name tf.variables_initializer is deprecated. Please use tf.compat.v1.variables_initializer instead.\n",
            "\n",
            "WARNING:tensorflow:From /usr/local/lib/python3.6/dist-packages/keras/backend/tensorflow_backend.py:2041: The name tf.nn.fused_batch_norm is deprecated. Please use tf.compat.v1.nn.fused_batch_norm instead.\n",
            "\n",
            "WARNING:tensorflow:From /usr/local/lib/python3.6/dist-packages/keras/backend/tensorflow_backend.py:148: The name tf.placeholder_with_default is deprecated. Please use tf.compat.v1.placeholder_with_default instead.\n",
            "\n",
            "WARNING:tensorflow:From /usr/local/lib/python3.6/dist-packages/keras/backend/tensorflow_backend.py:4271: The name tf.nn.avg_pool is deprecated. Please use tf.nn.avg_pool2d instead.\n",
            "\n",
            "WARNING:tensorflow:From /usr/local/lib/python3.6/dist-packages/keras/backend/tensorflow_backend.py:4479: The name tf.truncated_normal is deprecated. Please use tf.random.truncated_normal instead.\n",
            "\n",
            "WARNING:tensorflow:From /usr/local/lib/python3.6/dist-packages/keras/optimizers.py:793: The name tf.train.Optimizer is deprecated. Please use tf.compat.v1.train.Optimizer instead.\n",
            "\n",
            "WARNING:tensorflow:From /usr/local/lib/python3.6/dist-packages/keras/backend/tensorflow_backend.py:3576: The name tf.log is deprecated. Please use tf.math.log instead.\n",
            "\n",
            "WARNING:tensorflow:From /usr/local/lib/python3.6/dist-packages/tensorflow_core/python/ops/math_grad.py:1424: where (from tensorflow.python.ops.array_ops) is deprecated and will be removed in a future version.\n",
            "Instructions for updating:\n",
            "Use tf.where in 2.0, which has the same broadcast rule as np.where\n",
            "WARNING:tensorflow:From /usr/local/lib/python3.6/dist-packages/keras/backend/tensorflow_backend.py:1033: The name tf.assign_add is deprecated. Please use tf.compat.v1.assign_add instead.\n",
            "\n",
            "WARNING:tensorflow:From /usr/local/lib/python3.6/dist-packages/keras/backend/tensorflow_backend.py:1020: The name tf.assign is deprecated. Please use tf.compat.v1.assign instead.\n",
            "\n",
            "Train on 12614 samples, validate on 6213 samples\n",
            "Epoch 1/12\n",
            "12614/12614 [==============================] - 49s 4ms/step - loss: 1.6678 - acc: 0.4397 - val_loss: 2.9529 - val_acc: 0.4882\n",
            "Epoch 2/12\n",
            "12614/12614 [==============================] - 35s 3ms/step - loss: 0.2573 - acc: 0.9282 - val_loss: 2.6054 - val_acc: 0.5762\n",
            "Epoch 3/12\n",
            "12614/12614 [==============================] - 35s 3ms/step - loss: 0.1168 - acc: 0.9664 - val_loss: 0.5577 - val_acc: 0.8904\n",
            "Epoch 4/12\n",
            "12614/12614 [==============================] - 35s 3ms/step - loss: 0.0500 - acc: 0.9880 - val_loss: 0.4624 - val_acc: 0.8915\n",
            "Epoch 5/12\n",
            "12614/12614 [==============================] - 35s 3ms/step - loss: 0.0466 - acc: 0.9876 - val_loss: 0.0590 - val_acc: 0.9808\n",
            "Epoch 6/12\n",
            "12614/12614 [==============================] - 35s 3ms/step - loss: 0.0552 - acc: 0.9893 - val_loss: 0.0430 - val_acc: 0.9871\n",
            "Epoch 7/12\n",
            "12614/12614 [==============================] - 35s 3ms/step - loss: 0.0040 - acc: 0.9993 - val_loss: 0.0501 - val_acc: 0.9911\n",
            "Epoch 8/12\n",
            "12614/12614 [==============================] - 35s 3ms/step - loss: 0.0099 - acc: 0.9978 - val_loss: 0.0063 - val_acc: 0.9982\n",
            "Epoch 9/12\n",
            "12614/12614 [==============================] - 35s 3ms/step - loss: 3.0168e-04 - acc: 1.0000 - val_loss: 0.0022 - val_acc: 0.9995\n",
            "Epoch 10/12\n",
            "12614/12614 [==============================] - 35s 3ms/step - loss: 1.2081e-04 - acc: 1.0000 - val_loss: 0.0017 - val_acc: 0.9997\n",
            "Epoch 11/12\n",
            "12614/12614 [==============================] - 35s 3ms/step - loss: 7.7041e-05 - acc: 1.0000 - val_loss: 0.0022 - val_acc: 0.9997\n",
            "Epoch 12/12\n",
            "12614/12614 [==============================] - 35s 3ms/step - loss: 6.1265e-05 - acc: 1.0000 - val_loss: 0.0020 - val_acc: 0.9997\n",
            "Test loss: 0.002000413935277539\n",
            "Test accuracy: 0.9996780943183647\n",
            "[0.002000413935277539, 0.9996780943183647]\n"
          ],
          "name": "stdout"
        }
      ]
    },
    {
      "cell_type": "code",
      "metadata": {
        "id": "wPQDE6faWKgb",
        "colab_type": "code",
        "outputId": "42ab9694-0733-4684-ad66-228a39a52bba",
        "colab": {
          "base_uri": "https://localhost:8080/",
          "height": 826
        }
      },
      "source": [
        "#(x_train, y_train), (x_test, y_test) = mnist.load_data()\n",
        "XX=[]\n",
        "YY=[]\n",
        "\n",
        "for number in range (10):  \n",
        "  path = \"/var/test/\" + \"{:02d}\".format(number) + \"/\"\n",
        "  files = os.listdir(path)\n",
        "  del XX[:]\n",
        "  del YY[:]\n",
        "  for file in files:\n",
        "#      im2 = Image.open(path + file)\n",
        "      img = np.asarray(cv.imread(path + file,0))\n",
        "\n",
        "      threshold = 66\n",
        "      ret,img = cv.threshold(img,threshold,255,cv.THRESH_TOZERO)\n",
        "#      threshold = 100\n",
        "#      ret,img = cv.threshold(img,threshold,255,cv.THRESH_BINARY)\n",
        "      XX.append(img)\n",
        "      YY.append(number)\n",
        "\n",
        "\n",
        "  x_data = np.array(XX)\n",
        "  y_data = np.array(YY)\n",
        "  plt.imshow(x_data[0])\n",
        "  \n",
        "  if K.image_data_format() == 'channels_first':\n",
        "      x_data = x_data.reshape(x_data.shape[0], 1, img_rows, img_cols)\n",
        "  else:\n",
        "      x_data = x_data.reshape(x_data.shape[0], img_rows, img_cols, 1)\n",
        "\n",
        "  x_data = x_data.astype('float32')\n",
        "  x_data /= 255\n",
        "  y_data = keras.utils.to_categorical(y_data, num_classes)\n",
        "  score = model.evaluate(x_data, y_data, verbose=0)\n",
        "  print('Number :' +str(number))\n",
        "  print('Test loss:', score[0])\n",
        "  print('Test accuracy:', score[1])\n",
        "#  expect = model.predict_classes(x_data,batch_size=5)\n",
        "#  expect = model.predict(x_data,batch_size=5)\n",
        "#  expect = model.predict(x_data)\n",
        "#  print(expect)\n",
        "\n",
        "del XX[:]\n",
        "del YY[:]\n",
        "\n",
        "for number in range (10):  \n",
        "  path = \"/var/test/\" + \"{:02d}\".format(number) + \"/\"\n",
        "  files = os.listdir(path)\n",
        "  for file in files:\n",
        "      im2 = Image.open(path + file)\n",
        "      img = np.asarray(cv.imread(path + file,0))\n",
        "      threshold = 66\n",
        "      ret,img = cv.threshold(img,threshold,255,cv.THRESH_TOZERO)\n",
        "#      threshold = 100\n",
        "#      ret,img = cv.threshold(img,threshold,255,cv.THRESH_TOZERO)\n",
        "#      ret,img = cv.threshold(img,threshold,255,cv.THRESH_BINARY)\n",
        "      XX.append(img)\n",
        "      YY.append(number)\n",
        "\n",
        "np.random.seed(1)\n",
        "np.random.shuffle(XX)\n",
        "np.random.seed(1)\n",
        "np.random.shuffle(YY)\n",
        "\n",
        "x_data = np.array(XX)\n",
        "y_data = np.array(YY)\n",
        "if K.image_data_format() == 'channels_first':\n",
        "    x_data = x_data.reshape(x_data.shape[0], 1, img_rows, img_cols)\n",
        "else:\n",
        "    x_data = x_data.reshape(x_data.shape[0], img_rows, img_cols, 1)\n",
        "\n",
        "x_data = x_data.astype('float32')\n",
        "x_data /= 255\n",
        "y_data = keras.utils.to_categorical(y_data, num_classes)\n",
        "score = model.evaluate(x_data, y_data, verbose=0)\n",
        "print('=== Total ====')\n",
        "print('Test loss:', score[0])\n",
        "print('Test accuracy:', score[1])\n",
        "\n"
      ],
      "execution_count": 0,
      "outputs": [
        {
          "output_type": "stream",
          "text": [
            "Number :0\n",
            "Test loss: 0.00014617960550822318\n",
            "Test accuracy: 1.0\n",
            "Number :1\n",
            "Test loss: 2.0984145521651953e-05\n",
            "Test accuracy: 1.0\n",
            "Number :2\n",
            "Test loss: 0.001144096371717751\n",
            "Test accuracy: 1.0\n",
            "Number :3\n",
            "Test loss: 0.18664388358592987\n",
            "Test accuracy: 0.9599999785423279\n",
            "Number :4\n",
            "Test loss: 0.0004607090959325433\n",
            "Test accuracy: 1.0\n",
            "Number :5\n",
            "Test loss: 1.6706131646060385e-05\n",
            "Test accuracy: 1.0\n",
            "Number :6\n",
            "Test loss: 0.5660263299942017\n",
            "Test accuracy: 0.8799999952316284\n",
            "Number :7\n",
            "Test loss: 0.0046902550384402275\n",
            "Test accuracy: 1.0\n",
            "Number :8\n",
            "Test loss: 0.0003873297537211329\n",
            "Test accuracy: 1.0\n",
            "Number :9\n",
            "Test loss: 1.1859017831739038e-05\n",
            "Test accuracy: 1.0\n",
            "=== Total ====\n",
            "Test loss: 0.07595480647147633\n",
            "Test accuracy: 0.984\n"
          ],
          "name": "stdout"
        },
        {
          "output_type": "display_data",
          "data": {
            "image/png": "[encoded data removed]",
            "text/plain": [
              "<Figure size 432x288 with 1 Axes>"
            ]
          },
          "metadata": {
            "tags": []
          }
        }
      ]
    },
    {
      "cell_type": "code",
      "metadata": {
        "id": "rwkQls_uAbhE",
        "colab_type": "code",
        "colab": {}
      },
      "source": [
        ""
      ],
      "execution_count": 0,
      "outputs": []
    }
  ]
}